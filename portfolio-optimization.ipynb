{
 "cells": [
  {
   "cell_type": "markdown",
   "id": "24aa3a50-7f87-4212-9338-c906e7584aa4",
   "metadata": {},
   "source": [
    "# Portfolio Optimization Project\n",
    "\n",
    "**Objective**\n",
    "\n",
    "* Conducted portfolio optimization to minimize risk (variance) while maximizing return using mean-variance optimization techniques.\n",
    "\n",
    "**Methodology**\n",
    "\n",
    "* Downloaded historical stock data using yfinance.\n",
    "* Calculated daily returns and covariance matrix for assets (AAPL, AMZN, GOOG, NVDA, TSLA).\n",
    "* Implemented an optimization model using scipy.optimize.minimize to allocate portfolio weights.\n",
    "* Constraints: Ensured the sum of portfolio weights equals 1, with bounds between 0 and 1.\n",
    "\n",
    "**Tools/Technologies**\n",
    "\n",
    "* Python, Pandas, Numpy, Scipy, Yahoo Finance API"
   ]
  },
  {
   "cell_type": "code",
   "execution_count": 2,
   "id": "b6b07826-62d7-489c-bcb5-7ae4e3f4ff43",
   "metadata": {},
   "outputs": [
    {
     "name": "stderr",
     "output_type": "stream",
     "text": [
      "[*********************100%***********************]  5 of 5 completed"
     ]
    },
    {
     "name": "stdout",
     "output_type": "stream",
     "text": [
      "Ticker            AAPL        AMZN        GOOG       NVDA        TSLA\n",
      "Date                                                                 \n",
      "2023-01-03  123.768456   85.820000   89.378853  14.304595  108.099998\n",
      "2023-01-04  125.045044   85.139999   88.392395  14.738280  113.639999\n",
      "2023-01-05  123.718979   83.120003   86.459335  14.254631  110.339996\n",
      "2023-01-06  128.271118   86.080002   87.844376  14.848201  113.059998\n",
      "2023-01-09  128.795593   87.360001   88.482086  15.616642  119.769997\n",
      "...                ...         ...         ...        ...         ...\n",
      "2023-12-22  192.656174  153.419998  142.209030  48.816162  252.539993\n",
      "2023-12-26  192.108871  153.410004  142.308670  49.265030  256.609985\n",
      "2023-12-27  192.208359  153.339996  140.933624  49.402988  261.440002\n",
      "2023-12-28  192.636292  153.380005  140.774185  49.507965  253.179993\n",
      "2023-12-29  191.591385  151.940002  140.425430  49.507965  248.479996\n",
      "\n",
      "[250 rows x 5 columns]\n"
     ]
    },
    {
     "name": "stderr",
     "output_type": "stream",
     "text": [
      "\n"
     ]
    }
   ],
   "source": [
    "import yfinance as yf\n",
    "import pandas as pd\n",
    "\n",
    "tickers = ['AAPL', 'TSLA', 'NVDA', 'AMZN', 'GOOG']\n",
    "# Downloading historical stock data.\n",
    "data = yf.download(tickers, start = '2023-01-01', end = '2024-01-01')['Adj Close']\n",
    "\n",
    "print(data)"
   ]
  },
  {
   "cell_type": "code",
   "execution_count": 3,
   "id": "b0c3c290-76ed-4c27-af70-f8dc93be7e70",
   "metadata": {},
   "outputs": [
    {
     "name": "stdout",
     "output_type": "stream",
     "text": [
      "Ticker          AAPL      AMZN      GOOG      NVDA      TSLA\n",
      "Date                                                        \n",
      "2023-01-04  0.010314 -0.007924 -0.011037  0.030318  0.051249\n",
      "2023-01-05 -0.010605 -0.023726 -0.021869 -0.032816 -0.029039\n",
      "2023-01-06  0.036794  0.035611  0.016020  0.041640  0.024651\n",
      "2023-01-09  0.004089  0.014870  0.007260  0.051753  0.059349\n",
      "2023-01-10  0.004456  0.028732  0.004955  0.017981 -0.007681\n",
      "...              ...       ...       ...       ...       ...\n",
      "2023-12-22 -0.005548 -0.002730  0.006488 -0.003266 -0.007701\n",
      "2023-12-26 -0.002841 -0.000065  0.000701  0.009195  0.016116\n",
      "2023-12-27  0.000518 -0.000456 -0.009662  0.002800  0.018822\n",
      "2023-12-28  0.002226  0.000261 -0.001131  0.002125 -0.031594\n",
      "2023-12-29 -0.005424 -0.009388 -0.002477  0.000000 -0.018564\n",
      "\n",
      "[249 rows x 5 columns]\n"
     ]
    }
   ],
   "source": [
    "daily_returns = data.pct_change().dropna() # calculating daily returns\n",
    "\n",
    "print(daily_returns)\n"
   ]
  },
  {
   "cell_type": "code",
   "execution_count": 4,
   "id": "7f5e851e-137a-49e5-844d-db7ddf0c7d84",
   "metadata": {},
   "outputs": [
    {
     "name": "stdout",
     "output_type": "stream",
     "text": [
      "Mean Returns: \n",
      "Ticker\n",
      "AAPL    0.001835\n",
      "AMZN    0.002511\n",
      "GOOG    0.002002\n",
      "NVDA    0.005442\n",
      "TSLA    0.003893\n",
      "dtype: float64\n",
      "\n",
      "Covariance Matrix: \n",
      "Ticker      AAPL      AMZN      GOOG      NVDA      TSLA\n",
      "Ticker                                                  \n",
      "AAPL    0.000158  0.000116  0.000130  0.000171  0.000185\n",
      "AMZN    0.000116  0.000433  0.000246  0.000242  0.000257\n",
      "GOOG    0.000130  0.000246  0.000372  0.000245  0.000218\n",
      "NVDA    0.000171  0.000242  0.000245  0.000932  0.000413\n",
      "TSLA    0.000185  0.000257  0.000218  0.000413  0.001100\n"
     ]
    }
   ],
   "source": [
    "# mean returns and covariance\n",
    "\n",
    "mean_returns = daily_returns.mean()\n",
    "cov_matrix = daily_returns.cov()\n",
    "\n",
    "print('Mean Returns: ')\n",
    "print(mean_returns)\n",
    "print('\\nCovariance Matrix: ')\n",
    "print(cov_matrix)"
   ]
  },
  {
   "cell_type": "markdown",
   "id": "3b8a35f9-9fcb-40f0-86c4-aa66fecfecfa",
   "metadata": {},
   "source": [
    "The portfolio return formula is:\n",
    "\n",
    "$$\n",
    "R_p = \\sum_{i=1}^n w_i \\cdot r_i\n",
    "$$\n",
    "\n",
    "The portfolio variance formula is:\n",
    "\n",
    "$$\n",
    "\\sigma_p^2 = \\sum_{i=1}^n \\sum_{j=1}^n w_i \\cdot w_j \\cdot \\text{Cov}(r_i, r_j)\n",
    "$$\n",
    "\n",
    "The optimized portfolio variance, denoted by $ \\sigma_p^2 $, is minimized to achieve the desired balance of risk and return.\n",
    " "
   ]
  },
  {
   "cell_type": "code",
   "execution_count": 6,
   "id": "4e2b2df4-4fe4-4eb5-9725-dcba099b0126",
   "metadata": {},
   "outputs": [
    {
     "name": "stdout",
     "output_type": "stream",
     "text": [
      "Optimized Weights: \n",
      "[0.22412359 0.17605608 0.26811127 0.12757097 0.2041381 ]\n"
     ]
    }
   ],
   "source": [
    "# Goal is to maximise portfolio return while minimising risk\n",
    "import numpy as np\n",
    "from scipy.optimize import minimize\n",
    "\n",
    "num_assets = len(mean_returns) # number of assets\n",
    "\n",
    "weights = np.random.random(num_assets) # weights represent the proportion of the portfolio allocated to each asset.\n",
    "weights /= np.sum(weights)\n",
    "\n",
    "def portfolio_return(weights):\n",
    "    return np.sum(mean_returns * weights)\n",
    "\n",
    "def portfolio_variance(weights):\n",
    "    return np.dot(weights.T, np.dot(cov_matrix, weights))\n",
    "\n",
    "#optimization function\n",
    "def objective_function(weights):\n",
    "    return portfolio_variance(weights)\n",
    "\n",
    "# constraints= weights sum to 1\n",
    "constraints = ({'type': 'eq', 'fun': lambda weights: np.sum(weights) - 1})\n",
    "\n",
    "#bounds for weights (0-1)\n",
    "bounds = tuple((0, 1) for _ in range(num_assets))\n",
    "\n",
    "# minimize variance (risk)\n",
    "result = minimize(objective_function, weights, method = 'SLSQP', bounds = bounds, constraints = constraints)\n",
    "\n",
    "optimized_weights = result.x\n",
    "print('Optimized Weights: ') #the proportion of each asset in the portfolio that minimizes the risk (variance).\n",
    "print(optimized_weights)"
   ]
  },
  {
   "cell_type": "code",
   "execution_count": 7,
   "id": "ee61a008-43fe-464c-81ef-c7ae72936ac2",
   "metadata": {},
   "outputs": [
    {
     "name": "stdout",
     "output_type": "stream",
     "text": [
      "Optimized Portfolio Retutn: 0.29%\n",
      "Optimized Portfolio Risk: 1.66%\n"
     ]
    }
   ],
   "source": [
    "# Portfolio returns and risk\n",
    "optimized_return = portfolio_return(optimized_weights)\n",
    "optimized_risk = np.sqrt(portfolio_variance(optimized_weights))\n",
    "\n",
    "print(f'Optimized Portfolio Retutn: {optimized_return:.2%}')\n",
    "print(f'Optimized Portfolio Risk: {optimized_risk:.2%}')\n"
   ]
  },
  {
   "cell_type": "code",
   "execution_count": 19,
   "id": "295931be-9972-4201-af9b-6e538afd4db0",
   "metadata": {},
   "outputs": [
    {
     "data": {
      "image/png": "[encoded data removed]",
      "text/plain": [
       "<Figure size 1000x600 with 1 Axes>"
      ]
     },
     "metadata": {},
     "output_type": "display_data"
    }
   ],
   "source": [
    "import matplotlib.pyplot as plt\n",
    "\n",
    "# plotting optimized weights\n",
    "plt.figure(figsize = (10,6))\n",
    "plt.bar(tickers, optimized_weights, color = 'skyblue')\n",
    "plt.xlabel('Stocks')\n",
    "plt.ylabel('Portfolio Weight')\n",
    "plt.title('Optimized Portfolio Allocation')\n",
    "plt.show()"
   ]
  },
  {
   "cell_type": "markdown",
   "id": "a5be9dc5-0397-4a7b-b992-7c82f5e73e3d",
   "metadata": {},
   "source": [
    "## Conclusion\n",
    "The optimized portfolio achieved a balance between risk and return by diversifying investments across multiple assets. \n",
    "Key Insights:\n",
    "- Higher weights were assigned to less volatile assets.\n",
    "- The optimization process reduced overall portfolio risk significantly."
   ]
  },
  {
   "cell_type": "code",
   "execution_count": null,
   "id": "82502ebb-3f3c-40f8-819f-ed03d731b275",
   "metadata": {},
   "outputs": [],
   "source": []
  }
 ],
 "metadata": {
  "kernelspec": {
   "display_name": "Python 3 (ipykernel)",
   "language": "python",
   "name": "python3"
  },
  "language_info": {
   "codemirror_mode": {
    "name": "ipython",
    "version": 3
   },
   "file_extension": ".py",
   "mimetype": "text/x-python",
   "name": "python",
   "nbconvert_exporter": "python",
   "pygments_lexer": "ipython3",
   "version": "3.12.4"
  }
 },
 "nbformat": 4,
 "nbformat_minor": 5
}
